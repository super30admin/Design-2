{
 "cells": [
  {
   "cell_type": "code",
   "execution_count": 69,
   "id": "411e106b",
   "metadata": {},
   "outputs": [],
   "source": [
    "\"\"\"\n",
    "amortized time complexity is O(1) for all the operations. In the worst case scenario time complexity to pop element is o(n)\n",
    "Space complexity is O(1). Even though in Constructor we are creating an array of size 100(given in question constrints\n",
    "that max of 100 operation.so i considered worst case scenario of 100 push. then we require array of size 100) it is \n",
    "implemented only once. At the user level when he is doing operations space complexity is O(1).\n",
    "I implementeds solution in leetcode and it worked.\n",
    "I did not read question properly and bcz of that I made some mistakes. I did not start with bruteforce solution.\n",
    "Instead I went directly into how to get optimized version which lead me to not getting answer.\n",
    "\"\"\"\n",
    "class MyQueue:\n",
    "\n",
    "    def __init__(self):\n",
    "        self.queue=[]\n",
    "        self.popp=[]\n",
    "    \n",
    "    def push(self, x: int) -> None:\n",
    "      \n",
    "        self.queue.append(x)\n",
    "        \n",
    "        \n",
    "\n",
    "    def pop(self) -> int:\n",
    "        if self.popp:\n",
    "            return self.popp.pop()\n",
    "        else:\n",
    "            for i in range(len(self.queue)):\n",
    "                self.popp.append(self.queue.pop())\n",
    "            return self.popp.pop()\n",
    "\n",
    "    def peek(self) -> int:\n",
    "        return self.popp[-1] if self.popp else self.queue[0]\n",
    "        \n",
    "    def empty(self) -> bool:\n",
    "        return not(bool(self.queue) or bool(self.popp))"
   ]
  },
  {
   "cell_type": "code",
   "execution_count": 80,
   "id": "a16ff36c",
   "metadata": {},
   "outputs": [],
   "source": [
    "#time complexity for all operations is O(1)\n",
    "#space complexity for all the operations is O(1)\n",
    "#I executed this question in leetcode.\n",
    "#I did not face much difficulties in solving this problem.\n",
    "class MyHashMap:\n",
    "\n",
    "    def __init__(self):\n",
    "        self.bucket=1000\n",
    "        self.primary=[-1]*self.bucket\n",
    "        \n",
    "    def put(self, key: int, value: int) -> None:\n",
    "        primehash=key%self.bucket\n",
    "        seconhash=key//self.bucket\n",
    "        if self.primary[primehash]==-1:\n",
    "            if primehash==0:\n",
    "                self.primary[primehash]=[-1]*(self.bucket+1)\n",
    "            else:\n",
    "                self.primary[primehash]=[-1]*(self.bucket)\n",
    "        self.primary[primehash][seconhash]=value\n",
    "        \n",
    "\n",
    "    def get(self, key: int) -> int:\n",
    "        primehash=key%self.bucket\n",
    "        seconhash=key//self.bucket\n",
    "        if self.primary[primehash]==-1:\n",
    "            return -1\n",
    "        else:\n",
    "            return self.primary[primehash][seconhash]\n",
    "\n",
    "    def remove(self, key: int) -> None:\n",
    "        primehash=key%self.bucket\n",
    "        seconhash=key//self.bucket\n",
    "        if self.primary[primehash]!=-1:\n",
    "            self.primary[primehash][seconhash]=-1"
   ]
  },
  {
   "cell_type": "code",
   "execution_count": 62,
   "id": "1ffe3a4f",
   "metadata": {},
   "outputs": [],
   "source": []
  },
  {
   "cell_type": "code",
   "execution_count": 63,
   "id": "00865932",
   "metadata": {},
   "outputs": [],
   "source": []
  },
  {
   "cell_type": "code",
   "execution_count": null,
   "id": "dfb6a80e",
   "metadata": {},
   "outputs": [],
   "source": []
  },
  {
   "cell_type": "code",
   "execution_count": null,
   "id": "fb0781e7",
   "metadata": {},
   "outputs": [],
   "source": []
  },
  {
   "cell_type": "code",
   "execution_count": null,
   "id": "75efe711",
   "metadata": {},
   "outputs": [],
   "source": []
  },
  {
   "cell_type": "code",
   "execution_count": null,
   "id": "031c1b0f",
   "metadata": {},
   "outputs": [],
   "source": []
  },
  {
   "cell_type": "code",
   "execution_count": null,
   "id": "852ee054",
   "metadata": {},
   "outputs": [],
   "source": []
  },
  {
   "cell_type": "code",
   "execution_count": null,
   "id": "080848ec",
   "metadata": {},
   "outputs": [],
   "source": []
  },
  {
   "cell_type": "code",
   "execution_count": null,
   "id": "31af1dd4",
   "metadata": {},
   "outputs": [],
   "source": []
  },
  {
   "cell_type": "code",
   "execution_count": null,
   "id": "410fbbe1",
   "metadata": {},
   "outputs": [],
   "source": []
  },
  {
   "cell_type": "code",
   "execution_count": null,
   "id": "80234d37",
   "metadata": {},
   "outputs": [],
   "source": []
  },
  {
   "cell_type": "code",
   "execution_count": null,
   "id": "6840a606",
   "metadata": {},
   "outputs": [],
   "source": []
  },
  {
   "cell_type": "code",
   "execution_count": null,
   "id": "b1e7b187",
   "metadata": {},
   "outputs": [],
   "source": []
  },
  {
   "cell_type": "code",
   "execution_count": null,
   "id": "e1dba5bf",
   "metadata": {},
   "outputs": [],
   "source": []
  },
  {
   "cell_type": "code",
   "execution_count": null,
   "id": "32d82deb",
   "metadata": {},
   "outputs": [],
   "source": []
  },
  {
   "cell_type": "code",
   "execution_count": null,
   "id": "7ca4dba2",
   "metadata": {},
   "outputs": [],
   "source": []
  }
 ],
 "metadata": {
  "kernelspec": {
   "display_name": "Python 3",
   "language": "python",
   "name": "python3"
  },
  "language_info": {
   "codemirror_mode": {
    "name": "ipython",
    "version": 3
   },
   "file_extension": ".py",
   "mimetype": "text/x-python",
   "name": "python",
   "nbconvert_exporter": "python",
   "pygments_lexer": "ipython3",
   "version": "3.8.8"
  }
 },
 "nbformat": 4,
 "nbformat_minor": 5
}
