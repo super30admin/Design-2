{
  "nbformat": 4,
  "nbformat_minor": 0,
  "metadata": {
    "colab": {
      "name": "Design 2.ipynb",
      "provenance": []
    },
    "kernelspec": {
      "name": "python3",
      "display_name": "Python 3"
    },
    "language_info": {
      "name": "python"
    }
  },
  "cells": [
    {
      "cell_type": "markdown",
      "metadata": {
        "id": "fE1OGiDAsY6j"
      },
      "source": [
        "Minimum Stack"
      ]
    },
    {
      "cell_type": "code",
      "metadata": {
        "colab": {
          "base_uri": "https://localhost:8080/"
        },
        "id": "oN4BLiIKr1-v",
        "outputId": "84e7cc34-676e-45b8-d8f2-9249181fac28"
      },
      "source": [
        "# Time Complexity: O(1), Space Complexity: O(n)\n",
        "class MinStack(object):\n",
        "\n",
        "    def __init__(self):\n",
        "        \"\"\"\n",
        "        initialize your data structure here.\n",
        "        \"\"\"\n",
        "        self.stack=[]\n",
        "        self.min_values = []\n",
        "\n",
        "    def push(self, x):\n",
        "        \"\"\"\n",
        "        :type x: int\n",
        "        :rtype: None\n",
        "        \"\"\"\n",
        "        \n",
        "        self.stack.append(x)\n",
        "        if len(self.min_values) > 0:\n",
        "          if self.min_values[-1] >= x:\n",
        "            self.min_values.append(x)\n",
        "        else:\n",
        "          self.min_values.append(x)\n",
        "        \n",
        "        \n",
        "\n",
        "    def pop(self):\n",
        "        \"\"\"\n",
        "        :rtype: None\n",
        "        \"\"\"\n",
        "        if len(self.stack) > 0:\n",
        "          top = self.stack.pop() \n",
        "        if len(self.min_values) > 0 and top == self.min_values[-1]:\n",
        "          self.min_values.pop()\n",
        "\n",
        "\n",
        "    def top(self):\n",
        "        \"\"\"\n",
        "        :rtype: int\n",
        "        \"\"\"\n",
        "        return self.stack[-1]\n",
        "        \n",
        "\n",
        "    def getMin(self):\n",
        "        \"\"\"\n",
        "        :rtype: int\n",
        "        \"\"\"\n",
        "        return self.min_values[-1]\n",
        "\n",
        "\n",
        "# Your MinStack object will be instantiated and called as such:\n",
        "obj = MinStack()\n",
        "x = 5\n",
        "obj.push(x)\n",
        "x = 8\n",
        "obj.push(x)\n",
        "obj.push(10)\n",
        "obj.pop()\n",
        "param_3 = obj.top()\n",
        "param_4 = obj.getMin()\n",
        "print(param_3, param_4)"
      ],
      "execution_count": 4,
      "outputs": [
        {
          "output_type": "stream",
          "name": "stdout",
          "text": [
            "8 5\n"
          ]
        }
      ]
    },
    {
      "cell_type": "markdown",
      "metadata": {
        "id": "2rmrhRFwsW2r"
      },
      "source": [
        "HashSet"
      ]
    },
    {
      "cell_type": "code",
      "metadata": {
        "id": "U2Ha48emsVXz"
      },
      "source": [
        "# Time Complexity: O(n), Space Complexity: O(n^2)\n",
        "class MyHashSet(object):\n",
        "\n",
        "    def __init__(self):\n",
        "        \"\"\"\n",
        "        Initialize your data structure here.\n",
        "        \"\"\"\n",
        "        self.bucket = 1000\n",
        "        self.nestedbucket = 1000\n",
        "        self.arr = [[] for i in range(self.bucket)] \n",
        "      \n",
        "    def add(self, key):\n",
        "        \"\"\"\n",
        "        :type key: int\n",
        "        :rtype: None\n",
        "        \"\"\"\n",
        "        a = key % 1000\n",
        "        if not self.arr[a]:\n",
        "          self.arr[a] = [False for i in range(self.nestedbucket)]\n",
        "        b = key // 1000\n",
        "        self.arr[a][b] = True\n",
        "\n",
        "    def remove(self, key):\n",
        "        \"\"\"\n",
        "        :type key: int\n",
        "        :rtype: None\n",
        "        \"\"\"\n",
        "        a = key % 1000\n",
        "        b = key // 1000\n",
        "        if not self.arr[a]:\n",
        "          return\n",
        "        elif self.arr[a][b] == True:\n",
        "          self.arr[a][b] = False\n",
        "        \n",
        "\n",
        "    def contains(self, key):\n",
        "        \"\"\"\n",
        "        Returns true if this set contains the specified element\n",
        "        :type key: int\n",
        "        :rtype: bool\n",
        "        \"\"\"\n",
        "        a = key % 1000\n",
        "        b = key // 1000\n",
        "        if self.arr[a] and self.arr[a][b] == True :\n",
        "            return True\n",
        "        return False\n",
        "        \n",
        "\n",
        "\n",
        "# Your MyHashSet object will be instantiated and called as such:\n",
        "obj = MyHashSet()\n",
        "key = 10\n",
        "obj.add(key)\n",
        "#obj.remove(key)\n",
        "param_3 = obj.contains(key)\n",
        "\n",
        "print(param_3)"
      ],
      "execution_count": null,
      "outputs": []
    }
  ]
}